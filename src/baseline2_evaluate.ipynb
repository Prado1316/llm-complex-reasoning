{
 "cells": [
  {
   "cell_type": "code",
   "execution_count": null,
   "metadata": {
    "ExecutionIndicator": {
     "show": true
    },
    "execution": {
     "iopub.execute_input": "2024-07-27T16:20:13.870765Z",
     "iopub.status.busy": "2024-07-27T16:20:13.870623Z",
     "iopub.status.idle": "2024-07-27T16:20:17.519834Z",
     "shell.execute_reply": "2024-07-27T16:20:17.519307Z",
     "shell.execute_reply.started": "2024-07-27T16:20:13.870749Z"
    },
    "scrolled": true,
    "tags": []
   },
   "outputs": [],
   "source": [
    "!pip install scipy  tiktoken retry loguru"
   ]
  },
  {
   "cell_type": "code",
   "execution_count": 2,
   "metadata": {
    "ExecutionIndicator": {
     "show": true
    },
    "execution": {
     "iopub.execute_input": "2024-07-27T16:20:17.521335Z",
     "iopub.status.busy": "2024-07-27T16:20:17.521084Z",
     "iopub.status.idle": "2024-07-27T16:20:17.956736Z",
     "shell.execute_reply": "2024-07-27T16:20:17.956130Z",
     "shell.execute_reply.started": "2024-07-27T16:20:17.521318Z"
    },
    "tags": []
   },
   "outputs": [],
   "source": [
    "import json\n",
    "import os\n",
    "from pprint import pprint\n",
    "import re\n",
    "from tqdm import tqdm\n",
    "import random\n",
    "\n",
    "import uuid\n",
    "import openai\n",
    "from openai import OpenAI\n",
    "import tiktoken\n",
    "import json\n",
    "import numpy as np\n",
    "import requests\n",
    "from scipy import sparse\n",
    "#from rank_bm25 import BM25Okapi\n",
    "#import jieba\n",
    "from http import HTTPStatus\n",
    "\n",
    "\n",
    "from concurrent.futures import ThreadPoolExecutor, as_completed\n",
    "from loguru import logger\n",
    "import json\n",
    "import time\n",
    "from tqdm import tqdm\n",
    "\n",
    "logger.remove()  # 移除默认的控制台输出\n",
    "logger.add(\"logs/app_{time:YYYY-MM-DD}.log\", level=\"INFO\", rotation=\"00:00\", retention=\"10 days\", compression=\"zip\")\n",
    "\n",
    "MODEL_NAME = 'Qwen2-7B-Instruct-lora'"
   ]
  },
  {
   "cell_type": "code",
   "execution_count": 3,
   "metadata": {
    "execution": {
     "iopub.execute_input": "2024-07-27T16:20:17.958112Z",
     "iopub.status.busy": "2024-07-27T16:20:17.957650Z",
     "iopub.status.idle": "2024-07-27T16:20:17.962531Z",
     "shell.execute_reply": "2024-07-27T16:20:17.961986Z",
     "shell.execute_reply.started": "2024-07-27T16:20:17.958084Z"
    },
    "tags": []
   },
   "outputs": [],
   "source": [
    "def api_retry(MODEL_NAME, query):\n",
    "    max_retries = 5\n",
    "    retry_delay = 60  # in seconds\n",
    "    attempts = 0\n",
    "    while attempts < max_retries:\n",
    "        try:\n",
    "            return call_qwen_api(MODEL_NAME, query)\n",
    "        except Exception as e:\n",
    "            attempts += 1   \n",
    "            if attempts < max_retries:\n",
    "                logger.warning(f\"Attempt {attempts} failed for text: {query}. Retrying in {retry_delay} seconds...\")\n",
    "                time.sleep(retry_delay)\n",
    "            else:\n",
    "                logger.error(f\"All {max_retries} attempts failed for text: {query}. Error: {e}\")\n",
    "                raise"
   ]
  },
  {
   "cell_type": "code",
   "execution_count": 4,
   "metadata": {
    "ExecutionIndicator": {
     "show": true
    },
    "execution": {
     "iopub.execute_input": "2024-07-27T16:20:17.963867Z",
     "iopub.status.busy": "2024-07-27T16:20:17.963432Z",
     "iopub.status.idle": "2024-07-27T16:20:17.967746Z",
     "shell.execute_reply": "2024-07-27T16:20:17.967223Z",
     "shell.execute_reply.started": "2024-07-27T16:20:17.963840Z"
    },
    "tags": []
   },
   "outputs": [],
   "source": [
    "def call_qwen_api(MODEL_NAME, query):\n",
    "    # 这里采用dashscope的api调用模型推理，通过http传输的json封装返回结果\n",
    "    \n",
    "    client = OpenAI(\n",
    "        base_url=\"http://localhost:8000/v1\",\n",
    "        api_key=\"sk-xxx\", # 随便填写，只是为了通过接口参数校验\n",
    "    )\n",
    "    completion = client.chat.completions.create(\n",
    "      model=MODEL_NAME,\n",
    "      messages=[\n",
    "                # {'role':'system','content':'你是一个解决推理任务的专家，你需要分析出问题中的每个实体以及响应关系。然后根据问题一步步推理出结果。并且给出正确的结论。'},\n",
    "\n",
    "        {\"role\": \"user\", \"content\": query}\n",
    "      ]\n",
    "    )\n",
    "    return completion.choices[0].message.content"
   ]
  },
  {
   "cell_type": "code",
   "execution_count": 5,
   "metadata": {
    "ExecutionIndicator": {
     "show": false
    },
    "execution": {
     "iopub.execute_input": "2024-07-27T16:20:17.968937Z",
     "iopub.status.busy": "2024-07-27T16:20:17.968573Z",
     "iopub.status.idle": "2024-07-27T16:20:17.971527Z",
     "shell.execute_reply": "2024-07-27T16:20:17.971018Z",
     "shell.execute_reply.started": "2024-07-27T16:20:17.968912Z"
    },
    "tags": []
   },
   "outputs": [],
   "source": [
    "# call_qwen_api(MODEL_NAME,'你好')"
   ]
  },
  {
   "cell_type": "code",
   "execution_count": 6,
   "metadata": {
    "ExecutionIndicator": {
     "show": true
    },
    "execution": {
     "iopub.execute_input": "2024-07-27T16:20:17.972734Z",
     "iopub.status.busy": "2024-07-27T16:20:17.972369Z",
     "iopub.status.idle": "2024-07-27T16:20:17.976613Z",
     "shell.execute_reply": "2024-07-27T16:20:17.976116Z",
     "shell.execute_reply.started": "2024-07-27T16:20:17.972709Z"
    },
    "tags": []
   },
   "outputs": [],
   "source": [
    "# 这里定义了prompt推理模版\n",
    "\n",
    "def get_prompt(problem, question, options):\n",
    "\n",
    "    options = '\\n'.join(f\"{'ABCDEFG'[i]}. {o}\" for i, o in enumerate(options))\n",
    "\n",
    "    prompt = f\"\"\"你是一个逻辑推理专家，擅长解决逻辑推理问题。以下是一个逻辑推理的题目，形式为单项选择题。所有的问题都是（close-world assumption）闭世界假设，即未观测事实都为假。请逐步分析问题并在最后一行输出答案，最后一行的格式为\"答案是：A\"。题目如下：\n",
    "\n",
    "### 题目:\n",
    "{problem}\n",
    "\n",
    "### 问题:\n",
    "{question}\n",
    "{options}\n",
    "\"\"\"\n",
    "    # print(prompt)\n",
    "    return prompt\n"
   ]
  },
  {
   "cell_type": "code",
   "execution_count": 13,
   "metadata": {
    "ExecutionIndicator": {
     "show": false
    },
    "execution": {
     "iopub.execute_input": "2024-07-27T16:20:43.827875Z",
     "iopub.status.busy": "2024-07-27T16:20:43.827577Z",
     "iopub.status.idle": "2024-07-27T16:20:43.831188Z",
     "shell.execute_reply": "2024-07-27T16:20:43.830652Z",
     "shell.execute_reply.started": "2024-07-27T16:20:43.827853Z"
    },
    "tags": []
   },
   "outputs": [],
   "source": [
    "# 这里使用extract抽取模获得抽取的结果\n",
    "\n",
    "def extract(input_text):\n",
    "    ans_pattern = re.compile(r\"(.)\", re.S)\n",
    "    # ans_pattern = re.compile(r\"答案是：(.)\", re.S)\n",
    "\n",
    "    problems = ans_pattern.findall(input_text)\n",
    "    # print(problems)\n",
    "    if(problems == ''):\n",
    "        return 'A'\n",
    "    return problems[0]"
   ]
  },
  {
   "cell_type": "code",
   "execution_count": 8,
   "metadata": {
    "execution": {
     "iopub.execute_input": "2024-07-27T16:20:17.984187Z",
     "iopub.status.busy": "2024-07-27T16:20:17.983823Z",
     "iopub.status.idle": "2024-07-27T16:20:17.990985Z",
     "shell.execute_reply": "2024-07-27T16:20:17.990321Z",
     "shell.execute_reply.started": "2024-07-27T16:20:17.984162Z"
    },
    "tags": []
   },
   "outputs": [],
   "source": [
    "def process_datas(datas,MODEL_NAME):\n",
    "    results = []\n",
    "    with ThreadPoolExecutor(max_workers=16) as executor:\n",
    "        future_data = {}\n",
    "        lasttask = ''\n",
    "        lastmark = 0\n",
    "        lens = 0\n",
    "        # 送入多线程任务\n",
    "        for data in tqdm(datas, desc=\"Submitting tasks\", total=len(datas)):\n",
    "            problem = data['problem']\n",
    "            for id,question in enumerate(data['questions']):\n",
    "                prompt = get_prompt(problem, \n",
    "                                    question['question'], \n",
    "                                    question['options'],\n",
    "                                    )\n",
    "\n",
    "                future = executor.submit(api_retry, MODEL_NAME, prompt)\n",
    "                \n",
    "                future_data[future] = (data,id)\n",
    "                time.sleep(0.6)  # 控制每0.6秒提交一个任务\n",
    "                lens += 1\n",
    "        # 处理多线程任务\n",
    "        for future in tqdm(as_completed(future_data), total=lens, desc=\"Processing tasks\"):\n",
    "            # print('data',data)\n",
    "            data = future_data[future][0]\n",
    "            problem_id = future_data[future][1]\n",
    "            try:\n",
    "                res  = future.result()\n",
    "                extract_response = extract(res)\n",
    "                # print('res',extract_response)\n",
    "                data['questions'][problem_id]['answer'] = extract_response\n",
    "                results.append(data)\n",
    "                # print('data',data)\n",
    "                \n",
    "            except Exception as e:\n",
    "                logger.error(f\"Failed to process text: {data}. Error: {e}\")\n",
    "    \n",
    "    return results"
   ]
  },
  {
   "cell_type": "code",
   "execution_count": 9,
   "metadata": {
    "ExecutionIndicator": {
     "show": true
    },
    "execution": {
     "iopub.execute_input": "2024-07-27T16:20:17.992196Z",
     "iopub.status.busy": "2024-07-27T16:20:17.991826Z",
     "iopub.status.idle": "2024-07-27T16:20:17.996690Z",
     "shell.execute_reply": "2024-07-27T16:20:17.996037Z",
     "shell.execute_reply.started": "2024-07-27T16:20:17.992171Z"
    },
    "tags": []
   },
   "outputs": [],
   "source": [
    "def process_datas(datas,MODEL_NAME):\n",
    "    results = []\n",
    "\n",
    "    # 送入多线程任务\n",
    "    for data in tqdm(datas, desc=\"Submitting tasks\", total=len(datas)):\n",
    "        problem = data['problem']\n",
    "        for id,question in enumerate(data['questions']):\n",
    "            prompt = get_prompt(problem, \n",
    "                                question['question'], \n",
    "                                question['options'],\n",
    "                                    )\n",
    "            res = api_retry(MODEL_NAME, prompt)\n",
    "            extract_response = extract(res)\n",
    "            data['questions'][id][MODEL_NAME] = extract_response\n",
    "            results.append(data) \n",
    "    return results"
   ]
  },
  {
   "cell_type": "code",
   "execution_count": 10,
   "metadata": {
    "ExecutionIndicator": {
     "show": true
    },
    "execution": {
     "iopub.execute_input": "2024-07-27T16:20:17.997856Z",
     "iopub.status.busy": "2024-07-27T16:20:17.997503Z",
     "iopub.status.idle": "2024-07-27T16:20:18.001903Z",
     "shell.execute_reply": "2024-07-27T16:20:18.001409Z",
     "shell.execute_reply.started": "2024-07-27T16:20:17.997832Z"
    },
    "tags": []
   },
   "outputs": [],
   "source": [
    "def main(ifn, ofn):\n",
    "    if os.path.exists(ofn):\n",
    "        pass\n",
    "    data = []\n",
    "    # 按行读取数据\n",
    "    with open(ifn) as reader:\n",
    "        for line in reader:\n",
    "            sample = json.loads(line)\n",
    "            data.append(sample)\n",
    "    datas = data[:10]\n",
    "    # print(data)\n",
    "    # 均匀地分成多个数据集\n",
    "    return_list = process_datas(datas,MODEL_NAME)\n",
    "    print(len(return_list))\n",
    "    print(\"All tasks finished!\")\n",
    "    return return_list"
   ]
  },
  {
   "cell_type": "code",
   "execution_count": 11,
   "metadata": {
    "execution": {
     "iopub.execute_input": "2024-07-27T16:20:18.003063Z",
     "iopub.status.busy": "2024-07-27T16:20:18.002703Z",
     "iopub.status.idle": "2024-07-27T16:20:18.006961Z",
     "shell.execute_reply": "2024-07-27T16:20:18.006393Z",
     "shell.execute_reply.started": "2024-07-27T16:20:18.003038Z"
    },
    "tags": []
   },
   "outputs": [],
   "source": [
    "def evaluate(data):\n",
    "    data = data\n",
    "\n",
    "    pse = 0\n",
    "    cnt = 0\n",
    "    tot = 0\n",
    "    for task in data:\n",
    "        for question in task['questions']:\n",
    "            print(task)\n",
    "            if MODEL_NAME in question:\n",
    "                \n",
    "                tot += 1\n",
    "                cnt += question[MODEL_NAME] == question['answer']\n",
    "            else:\n",
    "                pse += 1\n",
    "\n",
    "    print(cnt, tot, cnt/tot, pse)"
   ]
  },
  {
   "cell_type": "code",
   "execution_count": null,
   "metadata": {
    "execution": {
     "iopub.execute_input": "2024-07-27T16:20:48.968907Z",
     "iopub.status.busy": "2024-07-27T16:20:48.968606Z"
    },
    "scrolled": true,
    "tags": []
   },
   "outputs": [
    {
     "name": "stdout",
     "output_type": "stream",
     "text": [
      "根\n"
     ]
    },
    {
     "name": "stderr",
     "output_type": "stream",
     "text": [
      "Submitting tasks: 100%|██████████| 10/10 [00:03<00:00,  2.52it/s]"
     ]
    },
    {
     "name": "stdout",
     "output_type": "stream",
     "text": [
      "28\n",
      "All tasks finished!\n"
     ]
    },
    {
     "name": "stderr",
     "output_type": "stream",
     "text": [
      "\n"
     ]
    }
   ],
   "source": [
    "if __name__ == '__main__':\n",
    "\n",
    "    a = extract(\"\"\"根据欧几里得算法，逐步解析计算两个数6和7的最大公约数（gcd）的步骤如下：\n",
    "\n",
    "1. 判断6和7是否相等：不相等。\n",
    "2. 判断6和7大小关系，7 > 6，所以用更大的数7减去较小的数6得到结果1。\n",
    "3. 现在计算6和1的最大公约数。\n",
    "4. 6 > 1，根据算法用更大的数6减去较小的数1得到结果5。\n",
    "5. 再计算5和1的最大公约数。\n",
    "6. 5 > 1，用5减去1得到结果4。\n",
    "7. 再计算4和1的最大公约数。\n",
    "8. 4 > 1，用4减去1得到结果3。\n",
    "9. 再计算3和1的最大公约数。\n",
    "10. 3 > 1，用3减去1得到结果2。\n",
    "11. 再计算2和1的最大公约数。\n",
    "12. 2 > 1，用2减去1得到结果1。\n",
    "13. 最后计算1和1的最大公约数，两数相等，gcd即为这两个数，也就是1。\n",
    "\n",
    "因此，6和7的最大公约数是1。\n",
    "\n",
    "答案是：C.\"\"\")\n",
    "\n",
    "    print(a)\n",
    "    return_list = main('round1_train_data.jsonl', 'upload_test.jsonl')\n"
   ]
  },
  {
   "cell_type": "code",
   "execution_count": null,
   "metadata": {
    "execution": {
     "iopub.status.busy": "2024-07-27T16:20:18.388877Z",
     "iopub.status.idle": "2024-07-27T16:20:18.389193Z",
     "shell.execute_reply": "2024-07-27T16:20:18.389080Z",
     "shell.execute_reply.started": "2024-07-27T16:20:18.389069Z"
    },
    "scrolled": true,
    "tags": []
   },
   "outputs": [],
   "source": [
    "return_list"
   ]
  },
  {
   "cell_type": "code",
   "execution_count": null,
   "metadata": {
    "execution": {
     "iopub.status.busy": "2024-07-27T16:20:18.390158Z",
     "iopub.status.idle": "2024-07-27T16:20:18.390455Z",
     "shell.execute_reply": "2024-07-27T16:20:18.390308Z",
     "shell.execute_reply.started": "2024-07-27T16:20:18.390296Z"
    },
    "tags": []
   },
   "outputs": [],
   "source": [
    "def has_complete_answer(questions):\n",
    "    # 这里假设完整答案的判断逻辑是：每个question都有一个'answer'键\n",
    "    for question in questions:\n",
    "        if MODEL_NAME not in question:\n",
    "            return False\n",
    "    return True\n",
    "\n",
    "def filter_problems(data):\n",
    "    result = []\n",
    "    problem_set = set()\n",
    "\n",
    "    for item in data:\n",
    "        # print('处理的item' ,item)\n",
    "        problem = item['problem']\n",
    "        if problem in problem_set:\n",
    "            # 找到已存在的字典\n",
    "            for existing_item in result:\n",
    "                if existing_item['problem'] == problem:\n",
    "                    # 如果当前字典有完整答案，替换已存在的字典\n",
    "                    if has_complete_answer(item['questions']):\n",
    "                        existing_item['questions'] = item['questions']\n",
    "                        existing_item['id'] = item['id']\n",
    "                    break\n",
    "        else:\n",
    "            # 如果当前字典有完整答案，添加到结果列表\n",
    "            if has_complete_answer(item['questions']):\n",
    "                result.append(item)\n",
    "                problem_set.add(problem)\n",
    "\n",
    "    return result"
   ]
  },
  {
   "cell_type": "code",
   "execution_count": null,
   "metadata": {
    "execution": {
     "iopub.status.busy": "2024-07-27T16:20:18.391363Z",
     "iopub.status.idle": "2024-07-27T16:20:18.391823Z",
     "shell.execute_reply": "2024-07-27T16:20:18.391676Z",
     "shell.execute_reply.started": "2024-07-27T16:20:18.391661Z"
    },
    "scrolled": true,
    "tags": []
   },
   "outputs": [
    {
     "name": "stdout",
     "output_type": "stream",
     "text": [
      "[{'problem': '有一个英文到法文的词汇表，包含以下对应词汇：\\n\\n1. the -> le\\n2. cat -> chat\\n3. jumps -> sauts\\n4. over -> sur\\n5. moon -> lune\\n6. cow -> vache\\n7. plays -> jouer\\n8. fiddle -> violon\\n9. egg -> bougre\\n10. falls -> des chutes\\n11. off -> de\\n12. wall -> mur\\n\\n根据这个词汇表，翻译以下英文句子成法文：', 'questions': [{'question': '选择题 1：\\n英文句子 \"the cat jumps over the moon\" 翻译成法文是：', 'options': ['le chat saute sur la lune', 'le chat sauts sur le lune', 'le sauts chat sur le lune', 'le chat sauts sur le lune'], 'answer': 'D', 'Qwen2-7B-Instruct-lora': 'A'}, {'question': '选择题 2：\\n英文句子 \"the cow plays the fiddle\" 翻译成法文是：', 'options': ['le vache jouer le violon', 'le jouer vache le violon', 'le vache jouer la vièle', 'la vache joue le violon'], 'answer': 'A', 'Qwen2-7B-Instruct-lora': 'A'}, {'question': '选择题 3：\\n英文句子 \"the egg falls off the wall\" 翻译成法文是：', 'options': ['le bougre des chutes de le mur', 'le oeuf tombe de le mur', 'le bougre tomber de le mur', 'des chutes le bougre de le mur'], 'answer': 'A', 'Qwen2-7B-Instruct-lora': 'B'}], 'id': 'round1_train_data_000'}, {'problem': '有一个方程的系数分别为A, B和C，下面是一些已知的规则：\\n\\n1. 如果B^2 - 4AC = 0，则方程有一个实数解。\\n2. 如果B^2 - 4AC > 0，则方程有两个不同的实数解。\\n3. 如果B^2 - 4AC < 0，则方程有两个不同的复数解。\\n\\n根据以上规则，回答以下选择题：', 'questions': [{'question': '选择题 1：\\n当系数A=7, B=9, C=5时，方程的解是什么？', 'options': ['-1.2857142857142858', '0', \"'+(-0.6428571428571429, *(0.5486532677049005, i))' 和 '-(-0.6428571428571429, *(0.5486532677049005, i))'\", '2.2857142857142856'], 'answer': 'C', 'Qwen2-7B-Instruct-lora': 'C'}, {'question': '选择题 2：\\n当系数A=7, B=9, C=5时，方程是否有解为6？', 'options': ['是', '否'], 'answer': 'B', 'Qwen2-7B-Instruct-lora': 'B'}, {'question': '选择题 3：\\n当系数A=7, B=9, C=5时，方程是否有解为8？', 'options': ['是', '否'], 'answer': 'B', 'Qwen2-7B-Instruct-lora': 'B'}, {'question': '选择题 4：\\n当系数A=7, B=6, C=0时，方程是否有解为6？', 'options': ['是', '否'], 'answer': 'B', 'Qwen2-7B-Instruct-lora': 'B'}], 'id': 'round1_train_data_001'}, {'problem': '在一场山地自行车比赛中，四位选手分别取得了第一、第二、第三和第四名。不同的颜色代表不同的排名。下面是一些关于这场比赛和选手排名的信息：\\n\\n1. Alan 名列第一。\\n2. 第二名的选手穿红色服装。\\n3. John 没有穿黄色服装。\\n4. 第四名的选手穿蓝色服装。\\n5. Steve 的排名和他的服装色是相同的名次。\\n6. Kev 的名次排在 Steve 前面。\\n7. 第二名的选手穿的不是青色。\\n8. 黄色服穿的选手的成绩排在绿色服穿的选手前面。\\n9. 确保每四个参数中的所有元素都不相同和符合排名顺序。\\n\\n根据上述信息， 回答以下选择题：', 'questions': [{'question': '选择题 1:\\n根据比赛结果，排在第二名之后的可能是哪些名次？', 'options': ['第一名 第三名', '第三名 第四名'], 'answer': 'B', 'Qwen2-7B-Instruct-lora': 'B'}, {'question': '选择题 2:\\n第一名是不是在第三名之前？', 'options': ['是', '否'], 'answer': 'A', 'Qwen2-7B-Instruct-lora': 'B'}, {'question': '选择题 3:\\n第一名是不是在第一名之前？', 'options': ['是', '否'], 'answer': 'B', 'Qwen2-7B-Instruct-lora': 'B'}, {'question': '选择题 4:\\n第一名是不是在第四名之前？', 'options': ['是', '否'], 'answer': 'A', 'Qwen2-7B-Instruct-lora': 'B'}], 'id': 'round1_train_data_002'}, {'problem': '有一组程序可以用来计算两个数的最小公倍数（LCM）。该程序使用了最大公约数（GCD）来帮助计算。具体过程如下：\\n\\n1. 如果两个数相等，则它们的GCD就是其中任意一个数。\\n2. 如果第一个数小于第二个数，则用第二个数减去第一个数，并对新结果递归地计算GCD。\\n3. 如果第一个数大于第二个数，则交换两个数并递归地计算GCD。\\n\\n基于此GCD的计算，我们可以通过以下公式计算两个数的LCM：\\n\\\\[ \\\\text{LCM}(x, y) = \\\\frac{x}{\\\\text{GCD}(x, y)} \\\\times y \\\\]\\n\\n根据上述原理，请回答以下选择题：', 'questions': [{'question': '选择题 1：\\n已知一个数和9的最小公倍数是9，这个数是多少？', 'options': ['1', '3', '6', '9'], 'answer': 'D', 'Qwen2-7B-Instruct-lora': 'D'}, {'question': '选择题 2：\\n7和2的最小公倍数是8，这个说法正确吗？', 'options': ['正确', '错误', '取决于7和2的最大公约数', '以上都不对'], 'answer': 'B', 'Qwen2-7B-Instruct-lora': 'B'}, {'question': '选择题 3：\\n3和9的最小公倍数是3，这个说法正确吗？', 'options': ['正确', '错误', '取决于3和9的最大公约数', '以上都不对'], 'answer': 'B', 'Qwen2-7B-Instruct-lora': 'B'}, {'question': '选择题 4：\\n3和4的最小公倍数是3，这个说法正确吗？', 'options': ['正确', '错误', '取决于3和4的最大公约数', '以上都不对'], 'answer': 'B', 'Qwen2-7B-Instruct-lora': 'B'}], 'id': 'round1_train_data_003'}, {'problem': '在安大略省，我们有关于不同城市及它们之间位置关系的信息。我们知道各个城市的人口以及哪些城市在给定的城市西边。以下是我们已知的信息：\\n\\n- 布兰普顿的人口是590000。\\n- 汉密尔顿的人口是540000。\\n- 金斯顿的人口是130000。\\n- 基奇纳的人口是230000。\\n- 伦敦的人口是380000。\\n- 马克翰的人口是330000。\\n- 密西沙加的人口是720000。\\n- 渥太华的人口是930000。\\n- 多伦多的人口是2700000。\\n- 旺市的人口是310000。\\n- 温莎的人口是220000。\\n\\n并且我们知道以下城市在彼此的西边：\\n\\n- 温莎在伦敦的西边。\\n- 伦敦在汉密尔顿的西边。\\n- 汉密尔顿在密西沙加的西边。\\n- 密西沙加在多伦多的西边。\\n- 多伦多在金斯顿的西边。\\n- 金斯顿在渥太华的西边。\\n- 旺市在马克翰的西边。\\n\\n还有些城市位于其他城市的北边：\\n\\n- 布兰普顿在密西沙加的北边。\\n- 基奇纳在伦敦的北边。\\n- 旺市在多伦多的北边。\\n\\n根据以上信息，回答以下选择题：', 'questions': [{'question': '选择题 1：\\n位于布兰普顿以西的城市是哪一个？', 'options': ['多伦多', '金斯顿', '渥太华', '汉密尔顿'], 'answer': 'D', 'Qwen2-7B-Instruct-lora': 'D'}], 'id': 'round1_train_data_004'}, {'problem': '有一所大学，部分学生和教授的信息如下：\\n\\n1. Holvoet教授授课课程有：BVP和SWOP。\\n2. Moens教授授课课程：BVP。\\n3. Demoen教授授课课程有：FI和AI。\\n4. Dedecker教授授课课程：SOCS。\\n5. Jacobs教授授课课程：SWOP。\\n6. Deschreye教授授课课程：AI。\\n\\n以下学生参加的课程情况：\\n\\n1. Joachim同学参加的课程有：BVP、FI和AI。\\n2. Matthias同学参加的课程有：BVP和AI。\\n3. Thomas同学参加的课程有：SOCS和SWOP。\\n4. Ingmar同学参加的课程有：SWOP。\\n\\n请根据信息回答以下选择题：', 'questions': [{'question': '选择题 1：\\n哪些教授教授了多个课程？', 'options': ['Demoen和Deschreye', 'Holvoet和Demoen', 'Moens和Holvoet', 'Dedecker和Jacobs'], 'answer': 'B', 'Qwen2-7B-Instruct-lora': 'B'}], 'id': 'round1_train_data_005'}, {'problem': '在数学中，一个“完全数”是指它的所有正除数（不包括它本身）之和等于它本身的数。例如，28是一个完全数，因为它的正除数1、2、4、7和14相加的和刚好是28。以下是与完全数相关的一些情况：\\n\\n- 我们以2开始，向上计算到给定的数N，寻找所有可能的完全数。\\n- 我们把一个数X视为可能的完全数，并检查从2开始到比X的平方根大的连续整数，计算其正除数的和（包括1）是否等于X本身。\\n\\n根据这些情况，回答以下选择题：', 'questions': [{'question': '选择题 1：\\n数0是完全数吗？', 'options': ['是', '否'], 'answer': 'B', 'Qwen2-7B-Instruct-lora': 'B'}, {'question': '选择题 2：\\n数7是完全数吗？', 'options': ['是', '否'], 'answer': 'B', 'Qwen2-7B-Instruct-lora': 'B'}, {'question': '选择题 3：\\n数3是完全数吗？', 'options': ['是', '否'], 'answer': 'B', 'Qwen2-7B-Instruct-lora': 'B'}, {'question': '选择题 4：\\n在计算正除数和时，数6（已包含1）加上之后的连续整数直到满足条件的数，累加的总和是9。这种计算情况是否正确？', 'options': ['正确', '错误'], 'answer': 'B', 'Qwen2-7B-Instruct-lora': 'A'}], 'id': 'round1_train_data_006'}, {'problem': '下述为五个人的出生顺序问题，每个人的出生次序不同。以下是关于他们出生顺序的已知线索：\\n\\n1. Julio出生早于Gloria。\\n2. Julio出生早于Pablo。\\n3. Miguel出生晚于Silvia。\\n4. Miguel出生晚于Pablo。\\n5. Miguel出生早于Gloria。\\n6. Julio出生晚于Silvia。\\n\\n根据以上线索，回答以下选择题：', 'questions': [{'question': '选择题 1:\\n从早到晚的出生顺序是什么？', 'options': ['Silvia, Julio, Pablo, Gloria, Miguel', 'Silvia, Julio, Pablo, Miguel, Gloria', 'Julio, Pablo, Silvia, Miguel, Gloria', 'Silvia, Julio, Miguel, Pablo, Gloria'], 'answer': 'B', 'Qwen2-7B-Instruct-lora': 'B'}, {'question': '选择题 2:\\n哪个人是第一个出生的？', 'options': ['Julio', 'Gloria', 'Silvia', 'Miguel'], 'answer': 'C', 'Qwen2-7B-Instruct-lora': 'C'}], 'id': 'round1_train_data_007'}, {'problem': '在一个社区中下面的居民特点已知：\\n\\n1. Lakeram是玩家。\\n2. Efaan是黑客。\\n3. David和Wakeel都喜欢动漫。\\n4. Hemrant是流氓。\\n\\n任何被分类为黑客的人也被认为是酷的。\\n\\nAcquila讨厌所有酷的人和所有的玩家。  \\nKheeram讨厌所有酷的人和喜欢动漫的人，也讨厌所有的流氓。\\n\\n此外，以下居民曾经在同一所学校上过学：\\n- Sarid和Aaliya\\n- Aaliya和Rudeshwar\\n- Rudeshwar和Christopher\\n\\n同校的关系是可以传递的，如果A和B曾经同校，B和C也同校，那么A和C亦然。\\n\\n根据以上信息，回答以下选择题。', 'questions': [{'question': '选择题 1：\\n谁讨厌Efaan？', 'options': ['Acquila', 'Kheeram', 'David', 'Wakeel'], 'answer': 'A', 'Qwen2-7B-Instruct-lora': 'A'}, {'question': '选择题 2：\\n谁讨厌Lakeram？', 'options': ['Acquila', 'Kheeram', 'David', 'Wakeel'], 'answer': 'A', 'Qwen2-7B-Instruct-lora': 'B'}, {'question': '选择题 3：\\n谁讨厌Hemrant？', 'options': ['Acquila', 'Hemrant', 'Kheeram', 'Sarid'], 'answer': 'C', 'Qwen2-7B-Instruct-lora': 'A'}, {'question': '选择题 4：\\nAaliya是否与自己曾在同一所学校上学？', 'options': ['是', '否'], 'answer': 'B', 'Qwen2-7B-Instruct-lora': 'B'}], 'id': 'round1_train_data_008'}, {'problem': '**自然语言测试题:**\\n\\n有三个角色：Hermione、Ron 和 Harry。以下是关于他们的一些事实及推理规则：\\n\\n1. Hermione 是女巫。\\n2. Ron 是巫师。\\n3. Harry 有一根魔杖。\\n4. Harry 是魁地奇球员。\\n5. 任何拥有扫帚和魔杖的人都是巫师。\\n6. 所有魁地奇球员都有扫帚。\\n\\n根据以上事实和规则，回答以下选择题：', 'questions': [{'question': '选择题 1：\\nHarry是不是巫师？', 'options': ['是', '不是'], 'answer': 'A', 'Qwen2-7B-Instruct-lora': 'A'}], 'id': 'round1_train_data_009'}]\n"
     ]
    }
   ],
   "source": [
    "return_list\n",
    "return_list = filter_problems(return_list)\n",
    "sorted_data = sorted(return_list, key=lambda x: int(str(x['id'])[-3:]))\n",
    "print(sorted_data)"
   ]
  },
  {
   "cell_type": "code",
   "execution_count": null,
   "metadata": {
    "ExecutionIndicator": {
     "show": true
    },
    "execution": {
     "iopub.status.busy": "2024-07-27T16:20:18.392699Z",
     "iopub.status.idle": "2024-07-27T16:20:18.393082Z",
     "shell.execute_reply": "2024-07-27T16:20:18.392922Z",
     "shell.execute_reply.started": "2024-07-27T16:20:18.392907Z"
    },
    "tags": []
   },
   "outputs": [
    {
     "name": "stdout",
     "output_type": "stream",
     "text": [
      "缺失的序号: []\n"
     ]
    }
   ],
   "source": [
    "def find_missing_ids(dict_list):\n",
    "    # 提取所有序号\n",
    "    extracted_ids = {int(d['id'][-3:]) for d in dict_list}\n",
    "    \n",
    "    # 创建0-500的序号集合\n",
    "    all_ids = set(range(10))\n",
    "    \n",
    "    # 找出缺失的序号\n",
    "    missing_ids = all_ids - extracted_ids\n",
    "    \n",
    "    return sorted(missing_ids)\n",
    "\n",
    "# 示例字典列表\n",
    "dict_list = sorted_data\n",
    "\n",
    "# 找出缺失的序号\n",
    "missing_ids = find_missing_ids(dict_list)\n",
    "print(\"缺失的序号:\", missing_ids)"
   ]
  },
  {
   "cell_type": "code",
   "execution_count": null,
   "metadata": {
    "execution": {
     "iopub.status.busy": "2024-07-27T16:20:18.393850Z",
     "iopub.status.idle": "2024-07-27T16:20:18.394076Z",
     "shell.execute_reply": "2024-07-27T16:20:18.393961Z",
     "shell.execute_reply.started": "2024-07-27T16:20:18.393951Z"
    },
    "tags": []
   },
   "outputs": [
    {
     "data": {
      "text/plain": [
       "0"
      ]
     },
     "execution_count": 19,
     "metadata": {},
     "output_type": "execute_result"
    }
   ],
   "source": [
    "len(missing_ids)"
   ]
  },
  {
   "cell_type": "code",
   "execution_count": null,
   "metadata": {
    "ExecutionIndicator": {
     "show": true
    },
    "execution": {
     "iopub.status.busy": "2024-07-27T16:20:18.394854Z",
     "iopub.status.idle": "2024-07-27T16:20:18.395234Z",
     "shell.execute_reply": "2024-07-27T16:20:18.395099Z",
     "shell.execute_reply.started": "2024-07-27T16:20:18.395085Z"
    },
    "tags": []
   },
   "outputs": [],
   "source": [
    "data  = []\n",
    "with open('data/round1_test_data.jsonl') as reader:\n",
    "    for id,line in enumerate(reader):\n",
    "        if(id in missing_ids):\n",
    "            sample = json.loads(line)\n",
    "            for question in sample['questions']:\n",
    "                question['answer'] = 'A'\n",
    "            sorted_data.append(sample)\n",
    "sorted_data = sorted(sorted_data, key=lambda x: int(str(x['id'])[-3:]))\n",
    "        "
   ]
  },
  {
   "cell_type": "code",
   "execution_count": null,
   "metadata": {
    "ExecutionIndicator": {
     "show": false
    },
    "execution": {
     "iopub.status.busy": "2024-07-27T16:20:18.396190Z",
     "iopub.status.idle": "2024-07-27T16:20:18.396696Z",
     "shell.execute_reply": "2024-07-27T16:20:18.396577Z",
     "shell.execute_reply.started": "2024-07-27T16:20:18.396565Z"
    },
    "tags": []
   },
   "outputs": [],
   "source": [
    "with open('upload_test.jsonl', 'w') as writer:\n",
    "    for sample in sorted_data:\n",
    "        writer.write(json.dumps(sample, ensure_ascii=False))\n",
    "        writer.write('\\n')"
   ]
  },
  {
   "cell_type": "code",
   "execution_count": null,
   "metadata": {
    "execution": {
     "iopub.status.busy": "2024-07-27T16:20:18.397514Z",
     "iopub.status.idle": "2024-07-27T16:20:18.397814Z",
     "shell.execute_reply": "2024-07-27T16:20:18.397697Z",
     "shell.execute_reply.started": "2024-07-27T16:20:18.397685Z"
    },
    "scrolled": true,
    "tags": []
   },
   "outputs": [],
   "source": [
    "evaluate(sorted_data)"
   ]
  }
 ],
 "metadata": {
  "kernelspec": {
   "display_name": "Python 3 (ipykernel)",
   "language": "python",
   "name": "python3"
  },
  "language_info": {
   "codemirror_mode": {
    "name": "ipython",
    "version": 3
   },
   "file_extension": ".py",
   "mimetype": "text/x-python",
   "name": "python",
   "nbconvert_exporter": "python",
   "pygments_lexer": "ipython3",
   "version": "3.10.13"
  }
 },
 "nbformat": 4,
 "nbformat_minor": 4
}
